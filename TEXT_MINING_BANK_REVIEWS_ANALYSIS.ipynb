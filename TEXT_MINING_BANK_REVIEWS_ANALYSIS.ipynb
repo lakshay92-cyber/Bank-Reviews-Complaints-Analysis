{
 "cells": [
  {
   "cell_type": "markdown",
   "metadata": {},
   "source": [
    "## TEXT_MINING_BANK_REVIEWS_ANALYSIS\n",
    "###### Definition of Target and Outcome Window\n",
    "       Central banks collecting information about customer satisfaction with the services provided by different bank. Also collects the information about the complaints. \n",
    "       The objective of the case study is to analyze customer reviews and predict customer satisfaction with the reviews\n",
    "###### Data Pre-Processing - \n",
    "    - Applying regular expressions to clean data\n",
    "    - Removing stopwords\n",
    "    - Applying Lemmatization\n",
    "###### Model Build and Model Evaluation\n",
    "    - Building TF-IDF model \n",
    "    - Train and Test split\n",
    "    - Model used :- Logistic Regression, Random Forest Classifier, Gradient Boosting Classifier, XGB Classifier, KNN Classifier, \n",
    "                    Decision Tree, Support Vector Classifier  \n",
    "    - Evaluation method:- Confusion Matrix \n",
    "    - Scoring:- Accuracy , Precision, Recall, F1_score"
   ]
  },
  {
   "cell_type": "markdown",
   "metadata": {
    "colab_type": "text",
    "id": "Qls5z8cbEcM-"
   },
   "source": [
    "### Importing Libraries"
   ]
  },
  {
   "cell_type": "code",
   "execution_count": 35,
   "metadata": {
    "colab": {},
    "colab_type": "code",
    "id": "C_agI8pOAMJO"
   },
   "outputs": [],
   "source": [
    "import nltk\n",
    "import pandas as pd\n",
    "import numpy as np\n",
    "import re\n",
    "from sklearn.feature_extraction.text import TfidfVectorizer\n",
    "from sklearn.model_selection import train_test_split\n",
    "from sklearn import metrics\n",
    "import matplotlib.pyplot as plt\n",
    "%matplotlib inline\n",
    "import seaborn as sb\n",
    "\n",
    "#Models\n",
    "from sklearn.linear_model import LogisticRegression\n",
    "from sklearn.ensemble import GradientBoostingClassifier, RandomForestClassifier\n",
    "from sklearn.tree import DecisionTreeClassifier\n",
    "from sklearn.svm import SVC\n",
    "from sklearn.neighbors import KNeighborsClassifier\n",
    "from xgboost import XGBClassifier"
   ]
  },
  {
   "cell_type": "code",
   "execution_count": null,
   "metadata": {
    "colab": {
     "base_uri": "https://localhost:8080/",
     "height": 1000
    },
    "colab_type": "code",
    "id": "FbA-WK3w2O8Y",
    "outputId": "309fb098-263c-4747-b6d4-fb7c274fdf85"
   },
   "outputs": [],
   "source": [
    "#Downloading nltk packages. (Can be skipped if already downloaded)\n",
    "nltk.download('all')"
   ]
  },
  {
   "cell_type": "markdown",
   "metadata": {
    "colab_type": "text",
    "id": "EBHPQkztEhqW"
   },
   "source": [
    "### Importing data"
   ]
  },
  {
   "cell_type": "code",
   "execution_count": 53,
   "metadata": {
    "colab": {},
    "colab_type": "code",
    "id": "Hmcys7NmAaVH"
   },
   "outputs": [],
   "source": [
    "df =  pd.read_excel('BankReviews.xlsx')"
   ]
  },
  {
   "cell_type": "code",
   "execution_count": 54,
   "metadata": {
    "colab": {
     "base_uri": "https://localhost:8080/",
     "height": 415
    },
    "colab_type": "code",
    "id": "Xs3mhXgnC3Xm",
    "outputId": "622d5cfc-bc02-4fc4-d7d3-00249375a08f"
   },
   "outputs": [
    {
     "data": {
      "text/html": [
       "<div>\n",
       "<style scoped>\n",
       "    .dataframe tbody tr th:only-of-type {\n",
       "        vertical-align: middle;\n",
       "    }\n",
       "\n",
       "    .dataframe tbody tr th {\n",
       "        vertical-align: top;\n",
       "    }\n",
       "\n",
       "    .dataframe thead th {\n",
       "        text-align: right;\n",
       "    }\n",
       "</style>\n",
       "<table border=\"1\" class=\"dataframe\">\n",
       "  <thead>\n",
       "    <tr style=\"text-align: right;\">\n",
       "      <th></th>\n",
       "      <th>Date</th>\n",
       "      <th>Stars</th>\n",
       "      <th>Reviews</th>\n",
       "      <th>BankName</th>\n",
       "    </tr>\n",
       "  </thead>\n",
       "  <tbody>\n",
       "    <tr>\n",
       "      <th>0</th>\n",
       "      <td>2017-04-10</td>\n",
       "      <td>5</td>\n",
       "      <td>Great job, Wyndham Capital! Each person was pr...</td>\n",
       "      <td>Wyndham Capital Mortgage</td>\n",
       "    </tr>\n",
       "    <tr>\n",
       "      <th>1</th>\n",
       "      <td>2017-02-10</td>\n",
       "      <td>5</td>\n",
       "      <td>Matthew Richardson is professional and helpful...</td>\n",
       "      <td>Wyndham Capital Mortgage</td>\n",
       "    </tr>\n",
       "    <tr>\n",
       "      <th>2</th>\n",
       "      <td>2017-08-21</td>\n",
       "      <td>5</td>\n",
       "      <td>We had a past experience with Wyndham Mortgage...</td>\n",
       "      <td>Wyndham Capital Mortgage</td>\n",
       "    </tr>\n",
       "    <tr>\n",
       "      <th>3</th>\n",
       "      <td>2017-12-17</td>\n",
       "      <td>5</td>\n",
       "      <td>We have been dealing with Brad Thomka from the...</td>\n",
       "      <td>Wyndham Capital Mortgage</td>\n",
       "    </tr>\n",
       "    <tr>\n",
       "      <th>4</th>\n",
       "      <td>2016-05-27</td>\n",
       "      <td>5</td>\n",
       "      <td>I can't express how grateful I am for the supp...</td>\n",
       "      <td>Wyndham Capital Mortgage</td>\n",
       "    </tr>\n",
       "    <tr>\n",
       "      <th>...</th>\n",
       "      <td>...</td>\n",
       "      <td>...</td>\n",
       "      <td>...</td>\n",
       "      <td>...</td>\n",
       "    </tr>\n",
       "    <tr>\n",
       "      <th>500</th>\n",
       "      <td>2016-02-06</td>\n",
       "      <td>1</td>\n",
       "      <td>\\r\\nI never write reviews but had to this time...</td>\n",
       "      <td>North American Savings Bank</td>\n",
       "    </tr>\n",
       "    <tr>\n",
       "      <th>501</th>\n",
       "      <td>2016-07-25</td>\n",
       "      <td>1</td>\n",
       "      <td>\\r\\nIt all started when Bob G ran a credit che...</td>\n",
       "      <td>North American Savings Bank</td>\n",
       "    </tr>\n",
       "    <tr>\n",
       "      <th>502</th>\n",
       "      <td>2017-09-27</td>\n",
       "      <td>1</td>\n",
       "      <td>\\r\\nWhat a horrible experience. We have excell...</td>\n",
       "      <td>North American Savings Bank</td>\n",
       "    </tr>\n",
       "    <tr>\n",
       "      <th>503</th>\n",
       "      <td>2017-12-24</td>\n",
       "      <td>1</td>\n",
       "      <td>\\r\\nRep was extremely professional, friendly, ...</td>\n",
       "      <td>North American Savings Bank</td>\n",
       "    </tr>\n",
       "    <tr>\n",
       "      <th>504</th>\n",
       "      <td>2017-03-19</td>\n",
       "      <td>1</td>\n",
       "      <td>\\r\\nI was working with a loan consultant from ...</td>\n",
       "      <td>North American Savings Bank</td>\n",
       "    </tr>\n",
       "  </tbody>\n",
       "</table>\n",
       "<p>505 rows × 4 columns</p>\n",
       "</div>"
      ],
      "text/plain": [
       "          Date  Stars                                            Reviews  \\\n",
       "0   2017-04-10      5  Great job, Wyndham Capital! Each person was pr...   \n",
       "1   2017-02-10      5  Matthew Richardson is professional and helpful...   \n",
       "2   2017-08-21      5  We had a past experience with Wyndham Mortgage...   \n",
       "3   2017-12-17      5  We have been dealing with Brad Thomka from the...   \n",
       "4   2016-05-27      5  I can't express how grateful I am for the supp...   \n",
       "..         ...    ...                                                ...   \n",
       "500 2016-02-06      1  \\r\\nI never write reviews but had to this time...   \n",
       "501 2016-07-25      1  \\r\\nIt all started when Bob G ran a credit che...   \n",
       "502 2017-09-27      1  \\r\\nWhat a horrible experience. We have excell...   \n",
       "503 2017-12-24      1  \\r\\nRep was extremely professional, friendly, ...   \n",
       "504 2017-03-19      1  \\r\\nI was working with a loan consultant from ...   \n",
       "\n",
       "                        BankName  \n",
       "0       Wyndham Capital Mortgage  \n",
       "1       Wyndham Capital Mortgage  \n",
       "2       Wyndham Capital Mortgage  \n",
       "3       Wyndham Capital Mortgage  \n",
       "4       Wyndham Capital Mortgage  \n",
       "..                           ...  \n",
       "500  North American Savings Bank  \n",
       "501  North American Savings Bank  \n",
       "502  North American Savings Bank  \n",
       "503  North American Savings Bank  \n",
       "504  North American Savings Bank  \n",
       "\n",
       "[505 rows x 4 columns]"
      ]
     },
     "execution_count": 54,
     "metadata": {},
     "output_type": "execute_result"
    }
   ],
   "source": [
    "df"
   ]
  },
  {
   "cell_type": "code",
   "execution_count": 55,
   "metadata": {
    "colab": {
     "base_uri": "https://localhost:8080/",
     "height": 104
    },
    "colab_type": "code",
    "id": "IBHrDg9jC3zz",
    "outputId": "b6b09679-ddee-409b-f302-441b7dd104a9"
   },
   "outputs": [
    {
     "data": {
      "text/plain": [
       "Date        0\n",
       "Stars       0\n",
       "Reviews     0\n",
       "BankName    0\n",
       "dtype: int64"
      ]
     },
     "execution_count": 55,
     "metadata": {},
     "output_type": "execute_result"
    }
   ],
   "source": [
    "#Checking for null values\n",
    "df.isna().sum()"
   ]
  },
  {
   "cell_type": "code",
   "execution_count": 56,
   "metadata": {
    "colab": {},
    "colab_type": "code",
    "id": "yfQahfZmayTI"
   },
   "outputs": [],
   "source": [
    "#Columns dropped as they are not required\n",
    "df.drop(columns = ['Date','BankName'],inplace=True)"
   ]
  },
  {
   "cell_type": "code",
   "execution_count": 57,
   "metadata": {
    "colab": {
     "base_uri": "https://localhost:8080/",
     "height": 415
    },
    "colab_type": "code",
    "id": "huIZJGgtaWFW",
    "outputId": "8a02f814-1b06-4e29-a8d4-22c4506fb419"
   },
   "outputs": [
    {
     "data": {
      "text/html": [
       "<div>\n",
       "<style scoped>\n",
       "    .dataframe tbody tr th:only-of-type {\n",
       "        vertical-align: middle;\n",
       "    }\n",
       "\n",
       "    .dataframe tbody tr th {\n",
       "        vertical-align: top;\n",
       "    }\n",
       "\n",
       "    .dataframe thead th {\n",
       "        text-align: right;\n",
       "    }\n",
       "</style>\n",
       "<table border=\"1\" class=\"dataframe\">\n",
       "  <thead>\n",
       "    <tr style=\"text-align: right;\">\n",
       "      <th></th>\n",
       "      <th>Stars</th>\n",
       "      <th>Reviews</th>\n",
       "    </tr>\n",
       "  </thead>\n",
       "  <tbody>\n",
       "    <tr>\n",
       "      <th>0</th>\n",
       "      <td>5</td>\n",
       "      <td>Great job, Wyndham Capital! Each person was pr...</td>\n",
       "    </tr>\n",
       "    <tr>\n",
       "      <th>1</th>\n",
       "      <td>5</td>\n",
       "      <td>Matthew Richardson is professional and helpful...</td>\n",
       "    </tr>\n",
       "    <tr>\n",
       "      <th>2</th>\n",
       "      <td>5</td>\n",
       "      <td>We had a past experience with Wyndham Mortgage...</td>\n",
       "    </tr>\n",
       "    <tr>\n",
       "      <th>3</th>\n",
       "      <td>5</td>\n",
       "      <td>We have been dealing with Brad Thomka from the...</td>\n",
       "    </tr>\n",
       "    <tr>\n",
       "      <th>4</th>\n",
       "      <td>5</td>\n",
       "      <td>I can't express how grateful I am for the supp...</td>\n",
       "    </tr>\n",
       "    <tr>\n",
       "      <th>...</th>\n",
       "      <td>...</td>\n",
       "      <td>...</td>\n",
       "    </tr>\n",
       "    <tr>\n",
       "      <th>500</th>\n",
       "      <td>1</td>\n",
       "      <td>\\r\\nI never write reviews but had to this time...</td>\n",
       "    </tr>\n",
       "    <tr>\n",
       "      <th>501</th>\n",
       "      <td>1</td>\n",
       "      <td>\\r\\nIt all started when Bob G ran a credit che...</td>\n",
       "    </tr>\n",
       "    <tr>\n",
       "      <th>502</th>\n",
       "      <td>1</td>\n",
       "      <td>\\r\\nWhat a horrible experience. We have excell...</td>\n",
       "    </tr>\n",
       "    <tr>\n",
       "      <th>503</th>\n",
       "      <td>1</td>\n",
       "      <td>\\r\\nRep was extremely professional, friendly, ...</td>\n",
       "    </tr>\n",
       "    <tr>\n",
       "      <th>504</th>\n",
       "      <td>1</td>\n",
       "      <td>\\r\\nI was working with a loan consultant from ...</td>\n",
       "    </tr>\n",
       "  </tbody>\n",
       "</table>\n",
       "<p>505 rows × 2 columns</p>\n",
       "</div>"
      ],
      "text/plain": [
       "     Stars                                            Reviews\n",
       "0        5  Great job, Wyndham Capital! Each person was pr...\n",
       "1        5  Matthew Richardson is professional and helpful...\n",
       "2        5  We had a past experience with Wyndham Mortgage...\n",
       "3        5  We have been dealing with Brad Thomka from the...\n",
       "4        5  I can't express how grateful I am for the supp...\n",
       "..     ...                                                ...\n",
       "500      1  \\r\\nI never write reviews but had to this time...\n",
       "501      1  \\r\\nIt all started when Bob G ran a credit che...\n",
       "502      1  \\r\\nWhat a horrible experience. We have excell...\n",
       "503      1  \\r\\nRep was extremely professional, friendly, ...\n",
       "504      1  \\r\\nI was working with a loan consultant from ...\n",
       "\n",
       "[505 rows x 2 columns]"
      ]
     },
     "execution_count": 57,
     "metadata": {},
     "output_type": "execute_result"
    }
   ],
   "source": [
    "df"
   ]
  },
  {
   "cell_type": "code",
   "execution_count": 58,
   "metadata": {
    "colab": {
     "base_uri": "https://localhost:8080/",
     "height": 35
    },
    "colab_type": "code",
    "id": "MTuwEyGIaegV",
    "outputId": "a17466e6-2413-4620-ef22-298fa7a7e42d"
   },
   "outputs": [
    {
     "data": {
      "text/plain": [
       "(505, 2)"
      ]
     },
     "execution_count": 58,
     "metadata": {},
     "output_type": "execute_result"
    }
   ],
   "source": [
    "df.shape"
   ]
  },
  {
   "cell_type": "code",
   "execution_count": 72,
   "metadata": {},
   "outputs": [
    {
     "data": {
      "text/plain": [
       "array([5, 1], dtype=int64)"
      ]
     },
     "execution_count": 72,
     "metadata": {},
     "output_type": "execute_result"
    }
   ],
   "source": [
    "df.Stars.unique()"
   ]
  },
  {
   "cell_type": "code",
   "execution_count": 59,
   "metadata": {
    "colab": {},
    "colab_type": "code",
    "id": "fUNHGXtNgKae"
   },
   "outputs": [],
   "source": [
    "#Splitting dependent and independent variables\n",
    "x = df.Reviews\n",
    "y = df.Stars"
   ]
  },
  {
   "cell_type": "code",
   "execution_count": 60,
   "metadata": {
    "colab": {
     "base_uri": "https://localhost:8080/",
     "height": 35
    },
    "colab_type": "code",
    "id": "JHWCm4IEgWyZ",
    "outputId": "e5792446-fca0-438c-f30f-c10ecee6547d"
   },
   "outputs": [
    {
     "data": {
      "text/plain": [
       "'Great job, Wyndham Capital! Each person was professional and helped us move through our refinance process smoothly. Thank you!'"
      ]
     },
     "execution_count": 60,
     "metadata": {},
     "output_type": "execute_result"
    }
   ],
   "source": [
    "x[0]"
   ]
  },
  {
   "cell_type": "code",
   "execution_count": 61,
   "metadata": {
    "colab": {
     "base_uri": "https://localhost:8080/",
     "height": 121
    },
    "colab_type": "code",
    "id": "yRK24kUIgYPx",
    "outputId": "7dde0b0f-d316-494a-8bf0-b9028c7ac1ca"
   },
   "outputs": [
    {
     "data": {
      "text/plain": [
       "0    5\n",
       "1    5\n",
       "2    5\n",
       "3    5\n",
       "4    5\n",
       "Name: Stars, dtype: int64"
      ]
     },
     "execution_count": 61,
     "metadata": {},
     "output_type": "execute_result"
    }
   ],
   "source": [
    "y.head()"
   ]
  },
  {
   "cell_type": "markdown",
   "metadata": {
    "colab_type": "text",
    "id": "Y03TEyB8gY95"
   },
   "source": [
    "### Cleaning reviews"
   ]
  },
  {
   "cell_type": "markdown",
   "metadata": {},
   "source": [
    "#### Applying regular expressions to clean data  "
   ]
  },
  {
   "cell_type": "code",
   "execution_count": 62,
   "metadata": {
    "colab": {},
    "colab_type": "code",
    "id": "mJ5zGv5fgne-"
   },
   "outputs": [],
   "source": [
    "clean_x = []\n",
    "for i in range(0, len(x)):\n",
    "    review = re.sub(r'\\W', ' ', str(x[i]))\n",
    "    review = review.lower()\n",
    "    review = re.sub(r'^br$', ' ', review)\n",
    "    review = re.sub(r'\\s+[a-z]\\s+', ' ',review)\n",
    "    review = re.sub(r'^[a-z]\\s+', '', review)\n",
    "    review = re.sub(r'\\s+', ' ', review)\n",
    "    clean_x.append(review)    "
   ]
  },
  {
   "cell_type": "code",
   "execution_count": 63,
   "metadata": {
    "colab": {
     "base_uri": "https://localhost:8080/",
     "height": 55
    },
    "colab_type": "code",
    "id": "NVOyHs0nhMN7",
    "outputId": "385c49c9-39bb-4e78-9e1a-ff734e5e3851"
   },
   "outputs": [
    {
     "data": {
      "text/plain": [
       "'great job wyndham capital each person was professional and helped us move through our refinance process smoothly thank you '"
      ]
     },
     "execution_count": 63,
     "metadata": {},
     "output_type": "execute_result"
    }
   ],
   "source": [
    "clean_x[0]"
   ]
  },
  {
   "cell_type": "markdown",
   "metadata": {},
   "source": [
    "#### Removing Stopwords"
   ]
  },
  {
   "cell_type": "code",
   "execution_count": 64,
   "metadata": {
    "colab": {},
    "colab_type": "code",
    "id": "DYV6x-kwjL0C"
   },
   "outputs": [],
   "source": [
    "stopwords = nltk.corpus.stopwords\n",
    "\n",
    "for i in range(len(clean_x)):\n",
    "    words = nltk.word_tokenize(clean_x[i])\n",
    "    words = [word for word in words if word not in stopwords.words('english')]\n",
    "    clean_x[i] = ' '.join(words)   "
   ]
  },
  {
   "cell_type": "code",
   "execution_count": 65,
   "metadata": {
    "colab": {
     "base_uri": "https://localhost:8080/",
     "height": 35
    },
    "colab_type": "code",
    "id": "jwwbGCiQlMcn",
    "outputId": "0f2fbfd2-0338-45f2-83e7-8a4e549d58b8"
   },
   "outputs": [
    {
     "data": {
      "text/plain": [
       "'great job wyndham capital person professional helped us move refinance process smoothly thank'"
      ]
     },
     "execution_count": 65,
     "metadata": {},
     "output_type": "execute_result"
    }
   ],
   "source": [
    "clean_x[0]"
   ]
  },
  {
   "cell_type": "markdown",
   "metadata": {},
   "source": [
    "#### Applying Lemmatization"
   ]
  },
  {
   "cell_type": "code",
   "execution_count": 66,
   "metadata": {
    "colab": {},
    "colab_type": "code",
    "id": "3Vz8IQPLhSTO"
   },
   "outputs": [],
   "source": [
    "lemmatizer = nltk.stem.WordNetLemmatizer()\n",
    "\n",
    "for i in range(len(clean_x)):\n",
    "    words = nltk.word_tokenize(clean_x[i])\n",
    "    words = [lemmatizer.lemmatize(word) for word in words]\n",
    "    clean_x[i] = ' '.join(words)   "
   ]
  },
  {
   "cell_type": "code",
   "execution_count": 67,
   "metadata": {
    "colab": {
     "base_uri": "https://localhost:8080/",
     "height": 35
    },
    "colab_type": "code",
    "id": "FBKxGNcDiSCF",
    "outputId": "ac5a5dad-a151-4343-c3ec-f9307de3324c"
   },
   "outputs": [
    {
     "data": {
      "text/plain": [
       "'great job wyndham capital person professional helped u move refinance process smoothly thank'"
      ]
     },
     "execution_count": 67,
     "metadata": {},
     "output_type": "execute_result"
    }
   ],
   "source": [
    "clean_x[0]"
   ]
  },
  {
   "cell_type": "markdown",
   "metadata": {
    "colab_type": "text",
    "id": "xCFsvuKwmKiv",
    "toc-hr-collapsed": false
   },
   "source": [
    "### Model Build and Evaluation"
   ]
  },
  {
   "cell_type": "markdown",
   "metadata": {
    "colab_type": "text",
    "id": "xtFentvimNVZ"
   },
   "source": [
    "#### TF-IDF"
   ]
  },
  {
   "cell_type": "code",
   "execution_count": 68,
   "metadata": {
    "colab": {},
    "colab_type": "code",
    "id": "pCEYLuVKmRHi"
   },
   "outputs": [],
   "source": [
    "# Creating the Tf-Idf Model\n",
    "vector = TfidfVectorizer()\n",
    "\n",
    "clean_x_new = vector.fit_transform(clean_x).toarray()"
   ]
  },
  {
   "cell_type": "code",
   "execution_count": 69,
   "metadata": {},
   "outputs": [
    {
     "data": {
      "text/plain": [
       "array([[0.        , 0.        , 0.        , ..., 0.        , 0.        ,\n",
       "        0.        ],\n",
       "       [0.        , 0.        , 0.        , ..., 0.        , 0.        ,\n",
       "        0.        ],\n",
       "       [0.        , 0.        , 0.        , ..., 0.        , 0.        ,\n",
       "        0.        ],\n",
       "       ...,\n",
       "       [0.        , 0.        , 0.        , ..., 0.        , 0.        ,\n",
       "        0.        ],\n",
       "       [0.        , 0.        , 0.        , ..., 0.        , 0.        ,\n",
       "        0.        ],\n",
       "       [0.        , 0.08238826, 0.        , ..., 0.        , 0.        ,\n",
       "        0.        ]])"
      ]
     },
     "execution_count": 69,
     "metadata": {},
     "output_type": "execute_result"
    }
   ],
   "source": [
    "clean_x_new"
   ]
  },
  {
   "cell_type": "code",
   "execution_count": 18,
   "metadata": {
    "colab": {},
    "colab_type": "code",
    "id": "ysGJGJcNmsTG"
   },
   "outputs": [],
   "source": [
    "# Splitting the dataset into the Training set and Test set\n",
    "text_train, text_test, sent_train, sent_test = train_test_split(clean_x_new, y, test_size = 0.20, random_state = 0)"
   ]
  },
  {
   "cell_type": "code",
   "execution_count": 19,
   "metadata": {
    "colab": {},
    "colab_type": "code",
    "id": "UhIH_X0Om-PX"
   },
   "outputs": [],
   "source": [
    "# Function to build and evaluate other models\n",
    "def model_build_cum_evaluation(model,x,y,x_t,y_t):\n",
    "    \n",
    "    #Fitting model\n",
    "    model.fit(x,y)\n",
    "    \n",
    "    #Predicting values for train_x and test_x\n",
    "    model_train_predict = model.predict(x)\n",
    "    model_predict = model.predict(x_t)\n",
    "    \n",
    "    print(\"Training scores\")\n",
    "    print(\"Accuracy score is \",metrics.accuracy_score(y,model_train_predict))\n",
    "    print(\"Precision score is\" ,metrics.precision_score(y,model_train_predict))\n",
    "    print(\"Recall score is \",metrics.recall_score(y,model_train_predict))\n",
    "    print(\"F1 score is \",metrics.f1_score(y,model_train_predict))\n",
    "    plt.figure(figsize=(4,3))\n",
    "    cm = metrics.confusion_matrix( y,model_train_predict )\n",
    "    sb.heatmap(cm, annot=True,  fmt='.2f', xticklabels=['5','1'], yticklabels=['5','1'])\n",
    "    plt.show()\n",
    "    \n",
    "    print(\"Testing scores\")\n",
    "    print(\"Accuracy score is \",metrics.accuracy_score(y_t,model_predict))\n",
    "    print(\"Precision score is\" ,metrics.precision_score(y_t,model_predict))\n",
    "    print(\"Recall score is \",metrics.recall_score(y_t,model_predict))\n",
    "    print(\"F1 score is \",metrics.f1_score(y_t,model_predict))\n",
    "    plt.figure(figsize=(4,3))\n",
    "    dm = metrics.confusion_matrix(y_t,model_predict)\n",
    "    sb.heatmap(dm, annot=True,  fmt='.2f',xticklabels=['5','1'], yticklabels=['5','1'])\n",
    "    plt.show()"
   ]
  },
  {
   "cell_type": "markdown",
   "metadata": {
    "colab_type": "text",
    "id": "DER7UP62qRYU"
   },
   "source": [
    "#### Logistic Regression"
   ]
  },
  {
   "cell_type": "code",
   "execution_count": 20,
   "metadata": {
    "colab": {},
    "colab_type": "code",
    "id": "NQzOELP4qUwm"
   },
   "outputs": [],
   "source": [
    "lr = LogisticRegression(n_jobs=-1)"
   ]
  },
  {
   "cell_type": "code",
   "execution_count": 21,
   "metadata": {
    "colab": {
     "base_uri": "https://localhost:8080/",
     "height": 596
    },
    "colab_type": "code",
    "id": "jYPEXUSyqUeB",
    "outputId": "8e2f9ba9-337e-44fd-8ccc-3348beec681f"
   },
   "outputs": [
    {
     "name": "stdout",
     "output_type": "stream",
     "text": [
      "Logistic Regression\n",
      "Training scores\n",
      "Accuracy score is  0.8910891089108911\n",
      "Precision score is 1.0\n",
      "Recall score is  0.35294117647058826\n",
      "F1 score is  0.5217391304347826\n"
     ]
    },
    {
     "data": {
      "image/png": "[encoded data removed]",
      "text/plain": [
       "<Figure size 288x216 with 2 Axes>"
      ]
     },
     "metadata": {
      "needs_background": "light"
     },
     "output_type": "display_data"
    },
    {
     "name": "stdout",
     "output_type": "stream",
     "text": [
      "Testing scores\n",
      "Accuracy score is  0.7920792079207921\n",
      "Precision score is 1.0\n",
      "Recall score is  0.2222222222222222\n",
      "F1 score is  0.3636363636363636\n"
     ]
    },
    {
     "data": {
      "image/png": "[encoded data removed]",
      "text/plain": [
       "<Figure size 288x216 with 2 Axes>"
      ]
     },
     "metadata": {
      "needs_background": "light"
     },
     "output_type": "display_data"
    }
   ],
   "source": [
    "print('Logistic Regression')\n",
    "model_build_cum_evaluation(lr, text_train, sent_train, text_test, sent_test)"
   ]
  },
  {
   "cell_type": "markdown",
   "metadata": {
    "colab_type": "text",
    "id": "RJ00DX-uomLk"
   },
   "source": [
    "#### Random Forest Classifier "
   ]
  },
  {
   "cell_type": "code",
   "execution_count": 22,
   "metadata": {
    "colab": {},
    "colab_type": "code",
    "id": "SdTHjGqwomnp"
   },
   "outputs": [],
   "source": [
    "rfc = RandomForestClassifier(n_jobs=-1)"
   ]
  },
  {
   "cell_type": "code",
   "execution_count": 23,
   "metadata": {
    "colab": {
     "base_uri": "https://localhost:8080/",
     "height": 596
    },
    "colab_type": "code",
    "id": "sxXuQur9onwO",
    "outputId": "4223e994-1958-4f63-9486-1bb8ae427248"
   },
   "outputs": [
    {
     "name": "stdout",
     "output_type": "stream",
     "text": [
      "Random Forest Classifier\n",
      "Training scores\n",
      "Accuracy score is  0.9975247524752475\n",
      "Precision score is 0.9855072463768116\n",
      "Recall score is  1.0\n",
      "F1 score is  0.9927007299270074\n"
     ]
    },
    {
     "data": {
      "image/png": "[encoded data removed]",
      "text/plain": [
       "<Figure size 288x216 with 2 Axes>"
      ]
     },
     "metadata": {
      "needs_background": "light"
     },
     "output_type": "display_data"
    },
    {
     "name": "stdout",
     "output_type": "stream",
     "text": [
      "Testing scores\n",
      "Accuracy score is  0.8316831683168316\n",
      "Precision score is 1.0\n",
      "Recall score is  0.37037037037037035\n",
      "F1 score is  0.5405405405405406\n"
     ]
    },
    {
     "data": {
      "image/png": "[encoded data removed]",
      "text/plain": [
       "<Figure size 288x216 with 2 Axes>"
      ]
     },
     "metadata": {
      "needs_background": "light"
     },
     "output_type": "display_data"
    }
   ],
   "source": [
    "print('Random Forest Classifier')\n",
    "model_build_cum_evaluation(rfc, text_train, sent_train, text_test, sent_test)"
   ]
  },
  {
   "cell_type": "markdown",
   "metadata": {
    "colab_type": "text",
    "id": "Esc9Fjiyon7t"
   },
   "source": [
    "#### Gradient Boosting Classifier"
   ]
  },
  {
   "cell_type": "code",
   "execution_count": 24,
   "metadata": {
    "colab": {},
    "colab_type": "code",
    "id": "soQt_x-7ooGH"
   },
   "outputs": [],
   "source": [
    "gbc = GradientBoostingClassifier()"
   ]
  },
  {
   "cell_type": "code",
   "execution_count": 25,
   "metadata": {
    "colab": {
     "base_uri": "https://localhost:8080/",
     "height": 596
    },
    "colab_type": "code",
    "id": "OIkBK9C7ooPg",
    "outputId": "49d754e2-8a74-4d21-8499-68e6b55d01d8"
   },
   "outputs": [
    {
     "name": "stdout",
     "output_type": "stream",
     "text": [
      "Gradient Boosting Classifier\n",
      "Training scores\n",
      "Accuracy score is  0.9975247524752475\n",
      "Precision score is 1.0\n",
      "Recall score is  0.9852941176470589\n",
      "F1 score is  0.9925925925925926\n"
     ]
    },
    {
     "data": {
      "image/png": "[encoded data removed]",
      "text/plain": [
       "<Figure size 288x216 with 2 Axes>"
      ]
     },
     "metadata": {
      "needs_background": "light"
     },
     "output_type": "display_data"
    },
    {
     "name": "stdout",
     "output_type": "stream",
     "text": [
      "Testing scores\n",
      "Accuracy score is  0.8514851485148515\n",
      "Precision score is 0.9285714285714286\n",
      "Recall score is  0.48148148148148145\n",
      "F1 score is  0.6341463414634146\n"
     ]
    },
    {
     "data": {
      "image/png": "[encoded data removed]",
      "text/plain": [
       "<Figure size 288x216 with 2 Axes>"
      ]
     },
     "metadata": {
      "needs_background": "light"
     },
     "output_type": "display_data"
    }
   ],
   "source": [
    "print('Gradient Boosting Classifier')\n",
    "model_build_cum_evaluation(gbc, text_train, sent_train, text_test, sent_test)"
   ]
  },
  {
   "cell_type": "markdown",
   "metadata": {
    "colab_type": "text",
    "id": "lzsqvS_rooYa"
   },
   "source": [
    "#### XGB Classifier "
   ]
  },
  {
   "cell_type": "code",
   "execution_count": 26,
   "metadata": {
    "colab": {},
    "colab_type": "code",
    "id": "7VTluhZQoogj"
   },
   "outputs": [],
   "source": [
    "xgb = XGBClassifier(n_jobs=-1)"
   ]
  },
  {
   "cell_type": "code",
   "execution_count": 27,
   "metadata": {
    "colab": {
     "base_uri": "https://localhost:8080/",
     "height": 596
    },
    "colab_type": "code",
    "id": "7fkbjDsZqiN0",
    "outputId": "71b99969-eef4-49ae-bef8-0eacf53531f2"
   },
   "outputs": [
    {
     "name": "stdout",
     "output_type": "stream",
     "text": [
      "XGB Classifier\n",
      "Training scores\n",
      "Accuracy score is  0.9801980198019802\n",
      "Precision score is 0.96875\n",
      "Recall score is  0.9117647058823529\n",
      "F1 score is  0.9393939393939394\n"
     ]
    },
    {
     "data": {
      "image/png": "[encoded data removed]",
      "text/plain": [
       "<Figure size 288x216 with 2 Axes>"
      ]
     },
     "metadata": {
      "needs_background": "light"
     },
     "output_type": "display_data"
    },
    {
     "name": "stdout",
     "output_type": "stream",
     "text": [
      "Testing scores\n",
      "Accuracy score is  0.8514851485148515\n",
      "Precision score is 0.9285714285714286\n",
      "Recall score is  0.48148148148148145\n",
      "F1 score is  0.6341463414634146\n"
     ]
    },
    {
     "data": {
      "image/png": "[encoded data removed]",
      "text/plain": [
       "<Figure size 288x216 with 2 Axes>"
      ]
     },
     "metadata": {
      "needs_background": "light"
     },
     "output_type": "display_data"
    }
   ],
   "source": [
    "print('XGB Classifier')\n",
    "model_build_cum_evaluation(xgb, text_train, sent_train, text_test, sent_test)"
   ]
  },
  {
   "cell_type": "markdown",
   "metadata": {
    "colab_type": "text",
    "id": "rgukVONXqplV"
   },
   "source": [
    "#### KNN classifier "
   ]
  },
  {
   "cell_type": "code",
   "execution_count": 28,
   "metadata": {
    "colab": {},
    "colab_type": "code",
    "id": "Ilruy-Vgqpzl"
   },
   "outputs": [],
   "source": [
    "k = KNeighborsClassifier(algorithm='auto', leaf_size=30, metric='minkowski',\n",
    "                     metric_params=None, n_jobs=-1, n_neighbors=8, p=2,\n",
    "                     weights='uniform')"
   ]
  },
  {
   "cell_type": "code",
   "execution_count": 29,
   "metadata": {
    "colab": {
     "base_uri": "https://localhost:8080/",
     "height": 596
    },
    "colab_type": "code",
    "id": "n6ey-fZEqp9g",
    "outputId": "a4b7bae9-c53a-4e90-df2e-4017ad879832"
   },
   "outputs": [
    {
     "name": "stdout",
     "output_type": "stream",
     "text": [
      "KNN Classifier\n",
      "Training scores\n",
      "Accuracy score is  0.9653465346534653\n",
      "Precision score is 0.95\n",
      "Recall score is  0.8382352941176471\n",
      "F1 score is  0.890625\n"
     ]
    },
    {
     "data": {
      "image/png": "[encoded data removed]",
      "text/plain": [
       "<Figure size 288x216 with 2 Axes>"
      ]
     },
     "metadata": {
      "needs_background": "light"
     },
     "output_type": "display_data"
    },
    {
     "name": "stdout",
     "output_type": "stream",
     "text": [
      "Testing scores\n",
      "Accuracy score is  0.9207920792079208\n",
      "Precision score is 0.9130434782608695\n",
      "Recall score is  0.7777777777777778\n",
      "F1 score is  0.84\n"
     ]
    },
    {
     "data": {
      "image/png": "[encoded data removed]",
      "text/plain": [
       "<Figure size 288x216 with 2 Axes>"
      ]
     },
     "metadata": {
      "needs_background": "light"
     },
     "output_type": "display_data"
    }
   ],
   "source": [
    "print('KNN Classifier')\n",
    "model_build_cum_evaluation(k, text_train, sent_train, text_test, sent_test)"
   ]
  },
  {
   "cell_type": "markdown",
   "metadata": {
    "colab_type": "text",
    "id": "Dq9jIKauq1hz"
   },
   "source": [
    "#### Decision Tree "
   ]
  },
  {
   "cell_type": "code",
   "execution_count": 30,
   "metadata": {
    "colab": {},
    "colab_type": "code",
    "id": "Rh3i6hdGq2H4"
   },
   "outputs": [],
   "source": [
    "dt = DecisionTreeClassifier()"
   ]
  },
  {
   "cell_type": "code",
   "execution_count": 31,
   "metadata": {
    "colab": {
     "base_uri": "https://localhost:8080/",
     "height": 596
    },
    "colab_type": "code",
    "id": "uy9JS7g5q22n",
    "outputId": "f391b9f7-f7a1-4540-e475-f7f540173dd4"
   },
   "outputs": [
    {
     "name": "stdout",
     "output_type": "stream",
     "text": [
      "Decision Tree Classifier\n",
      "Training scores\n",
      "Accuracy score is  0.9975247524752475\n",
      "Precision score is 0.9855072463768116\n",
      "Recall score is  1.0\n",
      "F1 score is  0.9927007299270074\n"
     ]
    },
    {
     "data": {
      "image/png": "[encoded data removed]",
      "text/plain": [
       "<Figure size 288x216 with 2 Axes>"
      ]
     },
     "metadata": {
      "needs_background": "light"
     },
     "output_type": "display_data"
    },
    {
     "name": "stdout",
     "output_type": "stream",
     "text": [
      "Testing scores\n",
      "Accuracy score is  0.8316831683168316\n",
      "Precision score is 0.75\n",
      "Recall score is  0.5555555555555556\n",
      "F1 score is  0.6382978723404256\n"
     ]
    },
    {
     "data": {
      "image/png": "[encoded data removed]",
      "text/plain": [
       "<Figure size 288x216 with 2 Axes>"
      ]
     },
     "metadata": {
      "needs_background": "light"
     },
     "output_type": "display_data"
    }
   ],
   "source": [
    "print('Decision Tree Classifier')\n",
    "model_build_cum_evaluation(dt, text_train, sent_train, text_test, sent_test)"
   ]
  },
  {
   "cell_type": "markdown",
   "metadata": {
    "colab_type": "text",
    "id": "ypG03ILJ2w7L"
   },
   "source": [
    "#### Support Vector Classifer"
   ]
  },
  {
   "cell_type": "code",
   "execution_count": 32,
   "metadata": {
    "colab": {},
    "colab_type": "code",
    "id": "WckN0hjY21-O"
   },
   "outputs": [],
   "source": [
    "svc = SVC()"
   ]
  },
  {
   "cell_type": "code",
   "execution_count": 33,
   "metadata": {
    "colab": {
     "base_uri": "https://localhost:8080/",
     "height": 596
    },
    "colab_type": "code",
    "id": "ELxC04vN29aE",
    "outputId": "56608c72-a2f2-4fad-f782-04dbdebca1a1"
   },
   "outputs": [
    {
     "name": "stdout",
     "output_type": "stream",
     "text": [
      "Support Vector Classifier\n",
      "Training scores\n",
      "Accuracy score is  0.995049504950495\n",
      "Precision score is 1.0\n",
      "Recall score is  0.9705882352941176\n",
      "F1 score is  0.9850746268656716\n"
     ]
    },
    {
     "data": {
      "image/png": "[encoded data removed]",
      "text/plain": [
       "<Figure size 288x216 with 2 Axes>"
      ]
     },
     "metadata": {
      "needs_background": "light"
     },
     "output_type": "display_data"
    },
    {
     "name": "stdout",
     "output_type": "stream",
     "text": [
      "Testing scores\n",
      "Accuracy score is  0.8316831683168316\n",
      "Precision score is 1.0\n",
      "Recall score is  0.37037037037037035\n",
      "F1 score is  0.5405405405405406\n"
     ]
    },
    {
     "data": {
      "image/png": "[encoded data removed]",
      "text/plain": [
       "<Figure size 288x216 with 2 Axes>"
      ]
     },
     "metadata": {
      "needs_background": "light"
     },
     "output_type": "display_data"
    }
   ],
   "source": [
    "print('Support Vector Classifier')\n",
    "model_build_cum_evaluation(svc, text_train, sent_train, text_test, sent_test)"
   ]
  },
  {
   "cell_type": "markdown",
   "metadata": {
    "colab_type": "text",
    "id": "0xPS7DZXr0Ws"
   },
   "source": [
    "    From the data given above we can conclude that best result is given by KNN classifer."
   ]
  },
  {
   "cell_type": "markdown",
   "metadata": {
    "colab_type": "text",
    "id": "VUVwhIg791Wi"
   },
   "source": [
    "### Final Prediction"
   ]
  },
  {
   "cell_type": "code",
   "execution_count": 34,
   "metadata": {
    "colab": {
     "base_uri": "https://localhost:8080/",
     "height": 355
    },
    "colab_type": "code",
    "id": "iOyxm9Va96vo",
    "outputId": "cd4e196f-2d5e-4d27-b486-c1d00d63950c"
   },
   "outputs": [
    {
     "data": {
      "text/html": [
       "<div>\n",
       "<style scoped>\n",
       "    .dataframe tbody tr th:only-of-type {\n",
       "        vertical-align: middle;\n",
       "    }\n",
       "\n",
       "    .dataframe tbody tr th {\n",
       "        vertical-align: top;\n",
       "    }\n",
       "\n",
       "    .dataframe thead th {\n",
       "        text-align: right;\n",
       "    }\n",
       "</style>\n",
       "<table border=\"1\" class=\"dataframe\">\n",
       "  <thead>\n",
       "    <tr style=\"text-align: right;\">\n",
       "      <th></th>\n",
       "      <th>Stars</th>\n",
       "      <th>Reviews</th>\n",
       "      <th>predicted_values</th>\n",
       "    </tr>\n",
       "  </thead>\n",
       "  <tbody>\n",
       "    <tr>\n",
       "      <th>0</th>\n",
       "      <td>5</td>\n",
       "      <td>Great job, Wyndham Capital! Each person was pr...</td>\n",
       "      <td>5</td>\n",
       "    </tr>\n",
       "    <tr>\n",
       "      <th>1</th>\n",
       "      <td>5</td>\n",
       "      <td>Matthew Richardson is professional and helpful...</td>\n",
       "      <td>5</td>\n",
       "    </tr>\n",
       "    <tr>\n",
       "      <th>2</th>\n",
       "      <td>5</td>\n",
       "      <td>We had a past experience with Wyndham Mortgage...</td>\n",
       "      <td>5</td>\n",
       "    </tr>\n",
       "    <tr>\n",
       "      <th>3</th>\n",
       "      <td>5</td>\n",
       "      <td>We have been dealing with Brad Thomka from the...</td>\n",
       "      <td>5</td>\n",
       "    </tr>\n",
       "    <tr>\n",
       "      <th>4</th>\n",
       "      <td>5</td>\n",
       "      <td>I can't express how grateful I am for the supp...</td>\n",
       "      <td>5</td>\n",
       "    </tr>\n",
       "    <tr>\n",
       "      <th>5</th>\n",
       "      <td>5</td>\n",
       "      <td>I had the pleasure of working with Wyndham Cap...</td>\n",
       "      <td>5</td>\n",
       "    </tr>\n",
       "    <tr>\n",
       "      <th>6</th>\n",
       "      <td>5</td>\n",
       "      <td>My experience with Mattison was beyond greatly...</td>\n",
       "      <td>5</td>\n",
       "    </tr>\n",
       "    <tr>\n",
       "      <th>7</th>\n",
       "      <td>5</td>\n",
       "      <td>Patrick answered all my questions by email imm...</td>\n",
       "      <td>5</td>\n",
       "    </tr>\n",
       "    <tr>\n",
       "      <th>8</th>\n",
       "      <td>5</td>\n",
       "      <td>I loved working with this group of people! The...</td>\n",
       "      <td>5</td>\n",
       "    </tr>\n",
       "    <tr>\n",
       "      <th>9</th>\n",
       "      <td>5</td>\n",
       "      <td>Great web interface for both the loan applicat...</td>\n",
       "      <td>5</td>\n",
       "    </tr>\n",
       "  </tbody>\n",
       "</table>\n",
       "</div>"
      ],
      "text/plain": [
       "   Stars                                            Reviews  predicted_values\n",
       "0      5  Great job, Wyndham Capital! Each person was pr...                 5\n",
       "1      5  Matthew Richardson is professional and helpful...                 5\n",
       "2      5  We had a past experience with Wyndham Mortgage...                 5\n",
       "3      5  We have been dealing with Brad Thomka from the...                 5\n",
       "4      5  I can't express how grateful I am for the supp...                 5\n",
       "5      5  I had the pleasure of working with Wyndham Cap...                 5\n",
       "6      5  My experience with Mattison was beyond greatly...                 5\n",
       "7      5  Patrick answered all my questions by email imm...                 5\n",
       "8      5  I loved working with this group of people! The...                 5\n",
       "9      5  Great web interface for both the loan applicat...                 5"
      ]
     },
     "execution_count": 34,
     "metadata": {},
     "output_type": "execute_result"
    }
   ],
   "source": [
    "#Concatenating predicted values with original data:\n",
    "\n",
    "predicted = pd.DataFrame(k.predict(clean_x_new),columns=['predicted_values'])\n",
    "  \n",
    "final_output = pd.concat([df, predicted], axis=1)\n",
    "\n",
    "final_output.head(10)"
   ]
  }
 ],
 "metadata": {
  "colab": {
   "collapsed_sections": [],
   "name": "TEXT MINING- BANK REVIEWS ANALYSIS.ipynb",
   "provenance": []
  },
  "kernelspec": {
   "display_name": "Python 3",
   "language": "python",
   "name": "python3"
  },
  "language_info": {
   "codemirror_mode": {
    "name": "ipython",
    "version": 3
   },
   "file_extension": ".py",
   "mimetype": "text/x-python",
   "name": "python",
   "nbconvert_exporter": "python",
   "pygments_lexer": "ipython3",
   "version": "3.7.5"
  }
 },
 "nbformat": 4,
 "nbformat_minor": 4
}
